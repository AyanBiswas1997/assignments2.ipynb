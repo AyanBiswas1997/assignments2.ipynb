{
  "nbformat": 4,
  "nbformat_minor": 0,
  "metadata": {
    "colab": {
      "provenance": []
    },
    "kernelspec": {
      "name": "python3",
      "display_name": "Python 3"
    },
    "language_info": {
      "name": "python"
    }
  },
  "cells": [
    {
      "cell_type": "code",
      "execution_count": null,
      "metadata": {
        "id": "DWoL5cwM_q2t"
      },
      "outputs": [],
      "source": []
    },
    {
      "cell_type": "markdown",
      "source": [
        "1.A boolean is a data type with two possible values: true (1) or false (0). The two values help represent truth conditions found in logic control structures."
      ],
      "metadata": {
        "id": "XMCBRXBI_sJo"
      }
    },
    {
      "cell_type": "code",
      "source": [],
      "metadata": {
        "id": "Zl4vZiVT_8yP"
      },
      "execution_count": null,
      "outputs": []
    },
    {
      "cell_type": "markdown",
      "source": [
        "2.Python has three Boolean operators, or logical operators: and , or , and not ."
      ],
      "metadata": {
        "id": "p9Gzf8qBBR4O"
      }
    },
    {
      "cell_type": "markdown",
      "source": [
        "5.less than ( < ), less than or equal to ( <= ), greater than ( > ), greater than or equal to ( >= ), equal to ( == ), and not equal to ( != )."
      ],
      "metadata": {
        "id": "NzuxnN1OBUR2"
      }
    },
    {
      "cell_type": "markdown",
      "source": [
        "6.The '=' is the so-called assignment operator and is used to assign the result of the expression on the right side of the operator to the variable on the left side. The '==' is the so-called equality comparison operator and is used to check whether the two expressions on both sides are equal or not."
      ],
      "metadata": {
        "id": "IeJ_tri5CzgX"
      }
    },
    {
      "cell_type": "markdown",
      "source": [],
      "metadata": {
        "id": "hLFhWayiDFW2"
      }
    },
    {
      "cell_type": "code",
      "source": [],
      "metadata": {
        "id": "fICjNHxTHqnV"
      },
      "execution_count": null,
      "outputs": []
    },
    {
      "cell_type": "code",
      "source": [
        "spam = 0\n",
        "if spam == 10:\n",
        "  print('egg')\n",
        "if spam>5:\n",
        "  print('bacon')\n",
        "else:\n",
        "  print('ham')\n",
        "  print('spam')\n",
        "  print('spam')"
      ],
      "metadata": {
        "colab": {
          "base_uri": "https://localhost:8080/"
        },
        "id": "qHgOvp5AGPpn",
        "outputId": "3b925e7e-0e54-4aa7-b87b-a1c68517f60c"
      },
      "execution_count": 2,
      "outputs": [
        {
          "output_type": "stream",
          "name": "stdout",
          "text": [
            "ham\n",
            "spam\n",
            "spam\n"
          ]
        }
      ]
    },
    {
      "cell_type": "markdown",
      "source": [
        "if spam == 10:\n",
        "  print('egg') 1st              if spam>5:         2nd:       \n",
        "                               print('bacon')"
      ],
      "metadata": {
        "id": "PWzaBtcGHLC9"
      }
    },
    {
      "cell_type": "markdown",
      "source": [
        "else:\n",
        "  print('ham')\n",
        "  print('spam')           3rd\n",
        "  print('spam')"
      ],
      "metadata": {
        "id": "h8u4BaAPHejO"
      }
    },
    {
      "cell_type": "code",
      "source": [
        "Write code that prints Hello if 1 is stored in spam, prints Howdy if 2 is stored in spam, and prints\n",
        "Greetings! if anything else is stored in spam."
      ],
      "metadata": {
        "id": "CNhwvL5vHpFl"
      },
      "execution_count": null,
      "outputs": []
    },
    {
      "cell_type": "code",
      "source": [
        "if spam==1:\n",
        "  print(\"hello\")\n",
        "if spam==2:\n",
        "  print(\"Howdy\")\n",
        "else:\n",
        "  print(\"Greetings\")"
      ],
      "metadata": {
        "colab": {
          "base_uri": "https://localhost:8080/"
        },
        "id": "v8CfUFqFHwiV",
        "outputId": "18789cbc-c4e1-45f1-86a3-dc2a3d9b529e"
      },
      "execution_count": 3,
      "outputs": [
        {
          "output_type": "stream",
          "name": "stdout",
          "text": [
            "Greetings\n"
          ]
        }
      ]
    },
    {
      "cell_type": "code",
      "source": [],
      "metadata": {
        "id": "N_wAiNL8IZRV"
      },
      "execution_count": null,
      "outputs": []
    },
    {
      "cell_type": "markdown",
      "source": [
        "9.CTRL + C(9.If your programme is stuck in an endless loop, what keys you’ll press?)"
      ],
      "metadata": {
        "id": "UaYYbB78Ig4d"
      }
    },
    {
      "cell_type": "markdown",
      "source": [],
      "metadata": {
        "id": "tRvaSB1SIxNN"
      }
    },
    {
      "cell_type": "markdown",
      "source": [
        "10. How can you tell the difference between break and continue?\n",
        "Ans:Break it means its out of loop and continue that means only stop in current iteration of the loop."
      ],
      "metadata": {
        "id": "pGn8SoHBI4q1"
      }
    },
    {
      "cell_type": "markdown",
      "source": [
        "11. In a for loop, what is the difference between range(10), range(0, 10), and range(0, 10, 1)?\n",
        "i<10,i in range(0,10) it means the loop will from 0 to 10"
      ],
      "metadata": {
        "id": "3gR-LdD2JQDc"
      }
    },
    {
      "cell_type": "markdown",
      "source": [],
      "metadata": {
        "id": "tDW3HGWmIsVN"
      }
    },
    {
      "cell_type": "markdown",
      "source": [],
      "metadata": {
        "id": "zoIIaFKJKD5M"
      }
    },
    {
      "cell_type": "code",
      "source": [
        "12. Write a short program that prints the numbers 1 to 10 using a for loop. Then write an equivalent\n",
        "program that prints the numbers 1 to 10 using a while loop."
      ],
      "metadata": {
        "id": "9Mtt6NMkKJH_"
      },
      "execution_count": null,
      "outputs": []
    },
    {
      "cell_type": "code",
      "source": [
        "for i in range(1,10):\n",
        "  print(i)"
      ],
      "metadata": {
        "colab": {
          "base_uri": "https://localhost:8080/"
        },
        "id": "3Gqyq1-CKJ2k",
        "outputId": "3c33f06b-7e96-4bdd-8cb4-829bba90ceec"
      },
      "execution_count": 4,
      "outputs": [
        {
          "output_type": "stream",
          "name": "stdout",
          "text": [
            "1\n",
            "2\n",
            "3\n",
            "4\n",
            "5\n",
            "6\n",
            "7\n",
            "8\n",
            "9\n"
          ]
        }
      ]
    },
    {
      "cell_type": "code",
      "source": [
        "i = 1\n",
        "while(i<=10):\n",
        "  print(i)\n",
        "  i += 1"
      ],
      "metadata": {
        "colab": {
          "base_uri": "https://localhost:8080/"
        },
        "id": "ubP5nlADLQHs",
        "outputId": "47c32fc9-4116-47f0-d58c-0c43d12dc1c3"
      },
      "execution_count": 12,
      "outputs": [
        {
          "output_type": "stream",
          "name": "stdout",
          "text": [
            "1\n",
            "2\n",
            "3\n",
            "4\n",
            "5\n",
            "6\n",
            "7\n",
            "8\n",
            "9\n",
            "10\n"
          ]
        }
      ]
    },
    {
      "cell_type": "code",
      "source": [
        "13. If you had a function named bacon() inside a module named spam, how would you call it after\n",
        "importing spam?\n"
      ],
      "metadata": {
        "id": "IBiRFUwfLbjt"
      },
      "execution_count": null,
      "outputs": []
    },
    {
      "cell_type": "markdown",
      "source": [
        "using class"
      ],
      "metadata": {
        "id": "vTFpmYkLLuNE"
      }
    },
    {
      "cell_type": "markdown",
      "source": [],
      "metadata": {
        "id": "t2m2qzZeMDPU"
      }
    }
  ]
}